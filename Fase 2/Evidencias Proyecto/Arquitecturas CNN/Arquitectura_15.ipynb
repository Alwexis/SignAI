{
  "cells": [
    {
      "cell_type": "markdown",
      "metadata": {
        "id": "t3cY8FkKc356"
      },
      "source": [
        "Importamos librerías"
      ]
    },
    {
      "cell_type": "code",
      "execution_count": 1,
      "metadata": {
        "id": "dzMw6GTwc4tT"
      },
      "outputs": [],
      "source": [
        "import os\n",
        "import math\n",
        "import numpy as np\n",
        "import pandas as pd\n",
        "import matplotlib.pyplot as plt\n",
        "import matplotlib.image as mpimg\n",
        "\n",
        "import tensorflow as tf\n",
        "from tensorflow.keras.preprocessing.image import ImageDataGenerator\n",
        "from tensorflow.keras import layers, models\n",
        "from sklearn.model_selection import train_test_split\n",
        "from sklearn.metrics import classification_report, confusion_matrix\n",
        "from sklearn.utils import class_weight"
      ]
    },
    {
      "cell_type": "code",
      "execution_count": 2,
      "metadata": {},
      "outputs": [],
      "source": [
        "import tensorflow as tf\n",
        "\n",
        "gpus = tf.config.experimental.list_physical_devices('GPU')\n",
        "if gpus:\n",
        "    try:\n",
        "        # Habilitamos memory growth primero\n",
        "        for gpu in gpus:\n",
        "            tf.config.experimental.set_memory_growth(gpu, True)\n",
        "        \n",
        "        # Ahora limitamos la memoria, en este caso a 4gb\n",
        "        for gpu in gpus:\n",
        "            tf.config.experimental.set_virtual_device_configuration(\n",
        "                gpu,\n",
        "                [tf.config.experimental.VirtualDeviceConfiguration(memory_limit=4096)]\n",
        "            )\n",
        "    except RuntimeError as e:\n",
        "        print(e)"
      ]
    },
    {
      "cell_type": "code",
      "execution_count": 1,
      "metadata": {},
      "outputs": [
        {
          "ename": "NameError",
          "evalue": "name 'tf' is not defined",
          "output_type": "error",
          "traceback": [
            "\u001b[1;31m---------------------------------------------------------------------------\u001b[0m",
            "\u001b[1;31mNameError\u001b[0m                                 Traceback (most recent call last)",
            "Cell \u001b[1;32mIn[1], line 1\u001b[0m\n\u001b[1;32m----> 1\u001b[0m \u001b[43mtf\u001b[49m\u001b[38;5;241m.\u001b[39mkeras\u001b[38;5;241m.\u001b[39mbackend\u001b[38;5;241m.\u001b[39mclear_session()\n",
            "\u001b[1;31mNameError\u001b[0m: name 'tf' is not defined"
          ]
        }
      ],
      "source": [
        "tf.keras.backend.clear_session()"
      ]
    },
    {
      "cell_type": "code",
      "execution_count": 18,
      "metadata": {},
      "outputs": [],
      "source": [
        "# Verificar GPUs disponibles\n",
        "gpus = tf.config.list_physical_devices('GPU')\n",
        "if gpus:\n",
        "    try:\n",
        "        # Actualmente, solo permitir que la GPU se use en crecimiento de memoria\n",
        "        for gpu in gpus:\n",
        "            tf.config.experimental.set_memory_growth(gpu, True)\n",
        "    except RuntimeError as e:\n",
        "        print(e)"
      ]
    },
    {
      "cell_type": "markdown",
      "metadata": {
        "id": "OZv-NS_3c6wT"
      },
      "source": [
        "Carga de datos"
      ]
    },
    {
      "cell_type": "code",
      "execution_count": 3,
      "metadata": {
        "colab": {
          "base_uri": "https://localhost:8080/"
        },
        "id": "g2j33UEXc7hT",
        "outputId": "4d7f175e-c8c9-42d0-d944-30a459de3281"
      },
      "outputs": [
        {
          "name": "stdout",
          "output_type": "stream",
          "text": [
            "Found 178472 images belonging to 29 classes.\n",
            "Found 44602 images belonging to 29 classes.\n",
            "Cantidad en set de entrenamiento: 178472\n",
            "Cantidad en set de validación: 44602\n"
          ]
        }
      ],
      "source": [
        "# Ruta al directorio del dataset\n",
        "data_dir = 'ASL_Alph_Redim'\n",
        "\n",
        "# Parámetros\n",
        "img_height, img_width = 200, 200\n",
        "batch_size = 128\n",
        "\n",
        "# Data augmentation y preprocesamiento\n",
        "train_datagen = ImageDataGenerator(\n",
        "    rescale=1./255,\n",
        "    rotation_range=20,\n",
        "    width_shift_range=0.2,\n",
        "    height_shift_range=0.2,\n",
        "    shear_range=0.2,\n",
        "    zoom_range=0.2,\n",
        "    horizontal_flip=True,\n",
        "    brightness_range=(0.1, 0.9),\n",
        "    fill_mode='nearest',\n",
        "    validation_split=0.2  # Dividir 80% para entrenamiento y 20% para validación\n",
        ")\n",
        "\n",
        "# Crear generadores\n",
        "train_generator = train_datagen.flow_from_directory(\n",
        "    data_dir,\n",
        "    target_size=(img_height, img_width),\n",
        "    batch_size=batch_size,\n",
        "    class_mode='categorical',\n",
        "    subset='training',   # Usar el 80% de los datos para entrenamiento\n",
        "    shuffle=True\n",
        ")\n",
        "\n",
        "validation_generator = train_datagen.flow_from_directory(\n",
        "    data_dir,\n",
        "    target_size=(img_height, img_width),\n",
        "    batch_size=batch_size,\n",
        "    class_mode='categorical',\n",
        "    subset='validation',  # Usar el 20% de los datos para validación\n",
        "    shuffle=False\n",
        ")\n",
        "\n",
        "print(f\"Cantidad en set de entrenamiento: {train_generator.samples}\")\n",
        "print(f\"Cantidad en set de validación: {validation_generator.samples}\")"
      ]
    },
    {
      "cell_type": "code",
      "execution_count": 4,
      "metadata": {},
      "outputs": [
        {
          "data": {
            "text/plain": [
              "{'A': 0,\n",
              " 'B': 1,\n",
              " 'C': 2,\n",
              " 'D': 3,\n",
              " 'E': 4,\n",
              " 'F': 5,\n",
              " 'G': 6,\n",
              " 'H': 7,\n",
              " 'I': 8,\n",
              " 'J': 9,\n",
              " 'K': 10,\n",
              " 'L': 11,\n",
              " 'M': 12,\n",
              " 'N': 13,\n",
              " 'O': 14,\n",
              " 'P': 15,\n",
              " 'Q': 16,\n",
              " 'R': 17,\n",
              " 'S': 18,\n",
              " 'T': 19,\n",
              " 'U': 20,\n",
              " 'V': 21,\n",
              " 'W': 22,\n",
              " 'X': 23,\n",
              " 'Y': 24,\n",
              " 'Z': 25,\n",
              " 'del': 26,\n",
              " 'nothing': 27,\n",
              " 'space': 28}"
            ]
          },
          "execution_count": 4,
          "metadata": {},
          "output_type": "execute_result"
        }
      ],
      "source": [
        "train_generator.class_indices"
      ]
    },
    {
      "cell_type": "markdown",
      "metadata": {
        "id": "5UkORBEteVPC"
      },
      "source": [
        "Desbalance de clases"
      ]
    },
    {
      "cell_type": "code",
      "execution_count": 5,
      "metadata": {
        "id": "lBX1VSnteU8z"
      },
      "outputs": [],
      "source": [
        "class_weights = class_weight.compute_class_weight(\n",
        "    'balanced',\n",
        "    classes=np.unique(train_generator.classes),\n",
        "    y=train_generator.classes\n",
        ")\n",
        "class_weights = dict(enumerate(class_weights))"
      ]
    },
    {
      "cell_type": "markdown",
      "metadata": {
        "id": "IgZ_QbykdGAC"
      },
      "source": [
        "Modelo"
      ]
    },
    {
      "cell_type": "code",
      "execution_count": 6,
      "metadata": {
        "id": "x0lhZ_1idGnI"
      },
      "outputs": [],
      "source": [
        "def _conv_model():\n",
        "  model = models.Sequential()\n",
        "  # Primera capa convolucional\n",
        "  model.add(layers.Conv2D(32, (3, 3), activation='relu', input_shape=(img_height, img_width, 3)))\n",
        "  model.add(layers.MaxPooling2D())\n",
        "\n",
        "  # Segunda capa convolucional\n",
        "  model.add(layers.Conv2D(64, (3, 3), activation='relu'))\n",
        "  model.add(layers.MaxPooling2D())\n",
        "\n",
        "  # Tercera capa convolucional\n",
        "  model.add(layers.Conv2D(128, (3, 3), activation='relu'))\n",
        "  model.add(layers.MaxPooling2D())\n",
        "\n",
        "  # Cuarta capa convolucional\n",
        "  model.add(layers.Conv2D(128, (3, 3), activation='relu'))\n",
        "  model.add(layers.MaxPooling2D())\n",
        "\n",
        "  # Quinta capa convolucional\n",
        "  model.add(layers.Conv2D(64, (3, 3), activation='relu'))\n",
        "  model.add(layers.MaxPooling2D())\n",
        "\n",
        "  # Aplanamiento y capas densas\n",
        "  model.add(layers.Flatten())\n",
        "  model.add(layers.Dense(256, activation='relu'))\n",
        "  model.add(layers.Dropout(0.5))  # Previene sobreajuste\n",
        "  model.add(layers.Dense(train_generator.num_classes, activation='softmax'))\n",
        "\n",
        "  return model"
      ]
    },
    {
      "cell_type": "markdown",
      "metadata": {
        "id": "ok6wOPIwdP9i"
      },
      "source": [
        "Instanciamos el modelo"
      ]
    },
    {
      "cell_type": "code",
      "execution_count": 7,
      "metadata": {
        "colab": {
          "base_uri": "https://localhost:8080/"
        },
        "id": "LM-FtVbbdQ55",
        "outputId": "898042ea-1943-4cf1-93a2-b5a156f13797"
      },
      "outputs": [],
      "source": [
        "model = _conv_model()"
      ]
    },
    {
      "cell_type": "markdown",
      "metadata": {
        "id": "GzcNaV8NdTKS"
      },
      "source": [
        "Lo compilamos"
      ]
    },
    {
      "cell_type": "code",
      "execution_count": 8,
      "metadata": {
        "id": "bwWgumjydUCj"
      },
      "outputs": [],
      "source": [
        "model.compile(optimizer='adam',\n",
        "              loss='categorical_crossentropy',\n",
        "              metrics=['accuracy'])"
      ]
    },
    {
      "cell_type": "markdown",
      "metadata": {
        "id": "4QSnCAoCdWXZ"
      },
      "source": [
        "Lo ajustamos"
      ]
    },
    {
      "cell_type": "code",
      "execution_count": 9,
      "metadata": {
        "colab": {
          "base_uri": "https://localhost:8080/",
          "height": 567
        },
        "id": "mWcRBx6sdW-5",
        "outputId": "4385393e-b1e0-453a-8db7-6053d0aa14e5"
      },
      "outputs": [
        {
          "name": "stdout",
          "output_type": "stream",
          "text": [
            "Epoch 1/15\n",
            "1395/1395 [==============================] - 1937s 1s/step - loss: 2.3354 - accuracy: 0.2866 - val_loss: 1.6745 - val_accuracy: 0.5330\n",
            "Epoch 2/15\n",
            "1395/1395 [==============================] - 1680s 1s/step - loss: 1.2401 - accuracy: 0.5906 - val_loss: 1.4751 - val_accuracy: 0.6384\n",
            "Epoch 3/15\n",
            "1395/1395 [==============================] - 1657s 1s/step - loss: 0.9297 - accuracy: 0.6896 - val_loss: 1.3477 - val_accuracy: 0.6732\n",
            "Epoch 4/15\n",
            "1395/1395 [==============================] - 1602s 1s/step - loss: 0.7741 - accuracy: 0.7431 - val_loss: 1.2913 - val_accuracy: 0.7092\n",
            "Epoch 5/15\n",
            "1395/1395 [==============================] - 1572s 1s/step - loss: 0.6749 - accuracy: 0.7768 - val_loss: 1.3120 - val_accuracy: 0.6973\n",
            "Epoch 6/15\n",
            "1395/1395 [==============================] - 1569s 1s/step - loss: 0.6083 - accuracy: 0.7979 - val_loss: 1.3765 - val_accuracy: 0.7219\n",
            "Epoch 7/15\n",
            "1395/1395 [==============================] - 1582s 1s/step - loss: 0.5582 - accuracy: 0.8142 - val_loss: 1.2617 - val_accuracy: 0.7471\n",
            "Epoch 8/15\n",
            "1395/1395 [==============================] - 1580s 1s/step - loss: 0.5172 - accuracy: 0.8280 - val_loss: 1.2751 - val_accuracy: 0.7415\n",
            "Epoch 9/15\n",
            "1395/1395 [==============================] - 1576s 1s/step - loss: 0.4774 - accuracy: 0.8421 - val_loss: 1.3897 - val_accuracy: 0.7451\n",
            "Epoch 10/15\n",
            "1395/1395 [==============================] - 1572s 1s/step - loss: 0.4566 - accuracy: 0.8494 - val_loss: 1.3480 - val_accuracy: 0.7644\n",
            "Epoch 11/15\n",
            "1395/1395 [==============================] - 1628s 1s/step - loss: 0.4377 - accuracy: 0.8559 - val_loss: 1.4489 - val_accuracy: 0.7578\n",
            "Epoch 12/15\n",
            "1395/1395 [==============================] - 1654s 1s/step - loss: 0.4117 - accuracy: 0.8645 - val_loss: 1.3017 - val_accuracy: 0.7662\n",
            "Epoch 13/15\n",
            "1395/1395 [==============================] - 1662s 1s/step - loss: 0.3962 - accuracy: 0.8695 - val_loss: 1.2779 - val_accuracy: 0.7672\n",
            "Epoch 14/15\n",
            "1395/1395 [==============================] - 1655s 1s/step - loss: 0.3855 - accuracy: 0.8726 - val_loss: 1.2786 - val_accuracy: 0.7646\n",
            "Epoch 15/15\n",
            "1395/1395 [==============================] - 1660s 1s/step - loss: 0.3700 - accuracy: 0.8793 - val_loss: 1.2520 - val_accuracy: 0.7691\n"
          ]
        }
      ],
      "source": [
        "history = model.fit(\n",
        "    train_generator,\n",
        "    class_weight=class_weights,\n",
        "    epochs=15,\n",
        "    validation_data=validation_generator,\n",
        ")"
      ]
    },
    {
      "cell_type": "markdown",
      "metadata": {
        "id": "DsfCbmgMdZPR"
      },
      "source": [
        "Lo evaluamos"
      ]
    },
    {
      "cell_type": "code",
      "execution_count": 10,
      "metadata": {
        "colab": {
          "base_uri": "https://localhost:8080/",
          "height": 452
        },
        "id": "ljlQYtq9dZ65",
        "outputId": "927f0d20-3583-4770-b6c2-0c5b720765fa"
      },
      "outputs": [
        {
          "data": {
            "image/png": "[encoded data removed]",
            "text/plain": [
              "<Figure size 1200x600 with 2 Axes>"
            ]
          },
          "metadata": {},
          "output_type": "display_data"
        }
      ],
      "source": [
        "# Graficar precisión y pérdida\n",
        "acc = history.history['accuracy']\n",
        "val_acc = history.history['val_accuracy']\n",
        "\n",
        "loss = history.history['loss']\n",
        "val_loss = history.history['val_loss']\n",
        "\n",
        "epochs_range = range(15)\n",
        "\n",
        "plt.figure(figsize=(12, 6))\n",
        "plt.subplot(1, 2, 1)\n",
        "plt.plot(epochs_range, acc, label='Entrenamiento')\n",
        "plt.plot(epochs_range, val_acc, label='Validación')\n",
        "plt.legend(loc='lower right')\n",
        "plt.title('Precisión de Entrenamiento y Validación')\n",
        "\n",
        "plt.subplot(1, 2, 2)\n",
        "plt.plot(epochs_range, loss, label='Entrenamiento')\n",
        "plt.plot(epochs_range, val_loss, label='Validación')\n",
        "plt.legend(loc='upper right')\n",
        "plt.title('Pérdida de Entrenamiento y Validación')\n",
        "plt.show()"
      ]
    },
    {
      "cell_type": "markdown",
      "metadata": {
        "id": "k7eZUfvfdbp5"
      },
      "source": [
        "Lo almacenamos"
      ]
    },
    {
      "cell_type": "code",
      "execution_count": 11,
      "metadata": {
        "colab": {
          "base_uri": "https://localhost:8080/"
        },
        "id": "RZsmzruFdcZJ",
        "outputId": "c39f7012-3ca3-4ec8-aecf-a6459d779002"
      },
      "outputs": [],
      "source": [
        "model.save('arq_modelo_15.h5')\n",
        "model.save('arq_modelo_15.keras')"
      ]
    },
    {
      "cell_type": "markdown",
      "metadata": {
        "id": "6m69YMnMdgT5"
      },
      "source": [
        "Predicciones"
      ]
    },
    {
      "cell_type": "code",
      "execution_count": 13,
      "metadata": {
        "id": "531_k-Kk9vD-"
      },
      "outputs": [],
      "source": [
        "clases={'A': 0,\n",
        " 'B': 1,\n",
        " 'C': 2,\n",
        " 'D': 3,\n",
        " 'E': 4,\n",
        " 'F': 5,\n",
        " 'G': 6,\n",
        " 'H': 7,\n",
        " 'I': 8,\n",
        " 'J': 9,\n",
        " 'K': 10,\n",
        " 'L': 11,\n",
        " 'M': 12,\n",
        " 'N': 13,\n",
        " 'O': 14,\n",
        " 'P': 15,\n",
        " 'Q': 16,\n",
        " 'R': 17,\n",
        " 'S': 18,\n",
        " 'T': 19,\n",
        " 'U': 20,\n",
        " 'V': 21,\n",
        " 'W': 22,\n",
        " 'X': 23,\n",
        " 'Y': 24,\n",
        " 'Z': 25,\n",
        " 'del': 26,\n",
        " 'nothing': 27,\n",
        " 'space': 28}"
      ]
    },
    {
      "cell_type": "code",
      "execution_count": 35,
      "metadata": {
        "colab": {
          "base_uri": "https://localhost:8080/"
        },
        "id": "9wwwEKM591M3",
        "outputId": "51f01b69-d807-4fdc-ab42-fbcec151cf7d"
      },
      "outputs": [
        {
          "name": "stdout",
          "output_type": "stream",
          "text": [
            "{'A': 0, 'B': 1, 'C': 2, 'D': 3, 'E': 4, 'F': 5, 'G': 6, 'H': 7, 'I': 8, 'J': 9, 'K': 10, 'L': 11, 'M': 12, 'N': 13, 'O': 14, 'P': 15, 'Q': 16, 'R': 17, 'S': 18, 'T': 19, 'U': 20, 'V': 21, 'W': 22, 'X': 23, 'Y': 24, 'Z': 25, 'del': 26, 'nothing': 27, 'space': 28}\n"
          ]
        }
      ],
      "source": [
        "print(clases)"
      ]
    },
    {
      "cell_type": "code",
      "execution_count": null,
      "metadata": {
        "colab": {
          "base_uri": "https://localhost:8080/"
        },
        "id": "SyLRcYdn7ei2",
        "outputId": "b9525403-1eaf-428e-9ade-bc06cb99ab75"
      },
      "outputs": [
        {
          "name": "stderr",
          "output_type": "stream",
          "text": [
            "/usr/local/lib/python3.10/dist-packages/keras/src/layers/convolutional/base_conv.py:107: UserWarning: Do not pass an `input_shape`/`input_dim` argument to a layer. When using Sequential models, prefer using an `Input(shape)` object as the first layer in the model instead.\n",
            "  super().__init__(activity_regularizer=activity_regularizer, **kwargs)\n",
            "/usr/local/lib/python3.10/dist-packages/keras/src/optimizers/base_optimizer.py:33: UserWarning: Argument `decay` is no longer supported and will be ignored.\n",
            "  warnings.warn(\n",
            "WARNING:absl:Compiled the loaded model, but the compiled metrics have yet to be built. `model.compile_metrics` will be empty until you train or evaluate the model.\n",
            "WARNING:absl:Error in loading the saved optimizer state. As a result, your model is starting with a freshly initialized optimizer.\n"
          ]
        }
      ],
      "source": [
        "from tensorflow.keras.models import load_model\n",
        "\n",
        "# Cargamos el modelo\n",
        "model = load_model('/content/arq_modelo_11.h5')"
      ]
    },
    {
      "cell_type": "code",
      "execution_count": 30,
      "metadata": {
        "colab": {
          "base_uri": "https://localhost:8080/",
          "height": 470
        },
        "id": "Ut1tnvDQdhA5",
        "outputId": "e24d44f8-3e31-4f72-e873-1639e3287caf"
      },
      "outputs": [
        {
          "name": "stdout",
          "output_type": "stream",
          "text": [
            "1/1 [==============================] - 0s 18ms/step\n"
          ]
        },
        {
          "data": {
            "image/png": "[encoded data removed]",
            "text/plain": [
              "<Figure size 640x480 with 1 Axes>"
            ]
          },
          "metadata": {},
          "output_type": "display_data"
        },
        {
          "name": "stdout",
          "output_type": "stream",
          "text": [
            "La seña predicha es: A\n"
          ]
        }
      ],
      "source": [
        "from tensorflow.keras.preprocessing import image\n",
        "\n",
        "def predict_sign(img_path, model):\n",
        "    img = image.load_img(img_path, target_size=(200, 200))\n",
        "    img_array = image.img_to_array(img)\n",
        "    img_array = img_array / 255.0  # Normalizar\n",
        "    img_array = np.expand_dims(img_array, axis=0)\n",
        "\n",
        "    predictions = model.predict(img_array)\n",
        "    predicted_class = np.argmax(predictions, axis=1)\n",
        "\n",
        "    # Invertir el diccionario de class_indices\n",
        "    class_indices = {v: k for k, v in clases.items()}\n",
        "\n",
        "    # Obtener la clase predicha\n",
        "    predicted_class_name = class_indices[predicted_class[0]]\n",
        "    img = mpimg.imread(img_path)\n",
        "    imgplot = plt.imshow(img)\n",
        "    plt.show()\n",
        "    return predicted_class_name\n",
        "\n",
        "# Ejemplo de uso\n",
        "# Asegúrate de que la ruta a tu imagen sea correcta\n",
        "sign = predict_sign('Fotos/e_2.jpg', model)\n",
        "print(\"La seña predicha es:\", sign)"
      ]
    },
    {
      "cell_type": "code",
      "execution_count": null,
      "metadata": {},
      "outputs": [],
      "source": []
    },
    {
      "cell_type": "code",
      "execution_count": null,
      "metadata": {},
      "outputs": [],
      "source": []
    },
    {
      "cell_type": "code",
      "execution_count": null,
      "metadata": {},
      "outputs": [],
      "source": []
    },
    {
      "cell_type": "code",
      "execution_count": null,
      "metadata": {},
      "outputs": [],
      "source": []
    },
    {
      "cell_type": "code",
      "execution_count": null,
      "metadata": {},
      "outputs": [],
      "source": []
    },
    {
      "cell_type": "code",
      "execution_count": null,
      "metadata": {},
      "outputs": [],
      "source": []
    },
    {
      "cell_type": "code",
      "execution_count": null,
      "metadata": {},
      "outputs": [],
      "source": []
    },
    {
      "cell_type": "code",
      "execution_count": null,
      "metadata": {},
      "outputs": [],
      "source": []
    },
    {
      "cell_type": "code",
      "execution_count": null,
      "metadata": {},
      "outputs": [],
      "source": []
    },
    {
      "cell_type": "code",
      "execution_count": null,
      "metadata": {},
      "outputs": [],
      "source": []
    },
    {
      "cell_type": "code",
      "execution_count": null,
      "metadata": {},
      "outputs": [],
      "source": []
    },
    {
      "cell_type": "code",
      "execution_count": null,
      "metadata": {},
      "outputs": [],
      "source": []
    },
    {
      "cell_type": "code",
      "execution_count": null,
      "metadata": {},
      "outputs": [],
      "source": []
    },
    {
      "cell_type": "code",
      "execution_count": null,
      "metadata": {},
      "outputs": [],
      "source": []
    },
    {
      "cell_type": "code",
      "execution_count": null,
      "metadata": {},
      "outputs": [],
      "source": []
    },
    {
      "cell_type": "code",
      "execution_count": null,
      "metadata": {},
      "outputs": [],
      "source": []
    },
    {
      "cell_type": "code",
      "execution_count": null,
      "metadata": {},
      "outputs": [],
      "source": []
    },
    {
      "cell_type": "code",
      "execution_count": null,
      "metadata": {},
      "outputs": [],
      "source": []
    },
    {
      "cell_type": "code",
      "execution_count": null,
      "metadata": {},
      "outputs": [],
      "source": []
    },
    {
      "cell_type": "code",
      "execution_count": null,
      "metadata": {},
      "outputs": [],
      "source": []
    },
    {
      "cell_type": "code",
      "execution_count": null,
      "metadata": {},
      "outputs": [],
      "source": []
    },
    {
      "cell_type": "code",
      "execution_count": null,
      "metadata": {},
      "outputs": [],
      "source": []
    },
    {
      "cell_type": "code",
      "execution_count": null,
      "metadata": {},
      "outputs": [],
      "source": []
    },
    {
      "cell_type": "code",
      "execution_count": null,
      "metadata": {},
      "outputs": [],
      "source": []
    },
    {
      "cell_type": "code",
      "execution_count": null,
      "metadata": {},
      "outputs": [],
      "source": []
    },
    {
      "cell_type": "code",
      "execution_count": null,
      "metadata": {},
      "outputs": [],
      "source": []
    },
    {
      "cell_type": "code",
      "execution_count": null,
      "metadata": {},
      "outputs": [],
      "source": []
    },
    {
      "cell_type": "code",
      "execution_count": null,
      "metadata": {},
      "outputs": [],
      "source": []
    },
    {
      "cell_type": "code",
      "execution_count": null,
      "metadata": {},
      "outputs": [],
      "source": []
    },
    {
      "cell_type": "code",
      "execution_count": null,
      "metadata": {},
      "outputs": [],
      "source": []
    },
    {
      "cell_type": "code",
      "execution_count": null,
      "metadata": {},
      "outputs": [],
      "source": []
    },
    {
      "cell_type": "code",
      "execution_count": null,
      "metadata": {},
      "outputs": [],
      "source": []
    },
    {
      "cell_type": "code",
      "execution_count": null,
      "metadata": {},
      "outputs": [],
      "source": []
    },
    {
      "cell_type": "code",
      "execution_count": null,
      "metadata": {},
      "outputs": [],
      "source": []
    },
    {
      "cell_type": "code",
      "execution_count": null,
      "metadata": {},
      "outputs": [],
      "source": []
    },
    {
      "cell_type": "code",
      "execution_count": null,
      "metadata": {},
      "outputs": [],
      "source": []
    },
    {
      "cell_type": "code",
      "execution_count": null,
      "metadata": {},
      "outputs": [],
      "source": []
    },
    {
      "cell_type": "code",
      "execution_count": null,
      "metadata": {},
      "outputs": [],
      "source": []
    },
    {
      "cell_type": "code",
      "execution_count": null,
      "metadata": {},
      "outputs": [],
      "source": []
    },
    {
      "cell_type": "code",
      "execution_count": null,
      "metadata": {},
      "outputs": [],
      "source": []
    },
    {
      "cell_type": "code",
      "execution_count": null,
      "metadata": {},
      "outputs": [],
      "source": []
    },
    {
      "cell_type": "code",
      "execution_count": null,
      "metadata": {},
      "outputs": [],
      "source": []
    },
    {
      "cell_type": "code",
      "execution_count": null,
      "metadata": {},
      "outputs": [],
      "source": []
    },
    {
      "cell_type": "code",
      "execution_count": null,
      "metadata": {},
      "outputs": [],
      "source": []
    },
    {
      "cell_type": "code",
      "execution_count": null,
      "metadata": {},
      "outputs": [],
      "source": []
    },
    {
      "cell_type": "code",
      "execution_count": null,
      "metadata": {},
      "outputs": [],
      "source": []
    },
    {
      "cell_type": "code",
      "execution_count": null,
      "metadata": {},
      "outputs": [],
      "source": []
    },
    {
      "cell_type": "code",
      "execution_count": null,
      "metadata": {},
      "outputs": [],
      "source": []
    },
    {
      "cell_type": "code",
      "execution_count": null,
      "metadata": {},
      "outputs": [],
      "source": []
    },
    {
      "cell_type": "code",
      "execution_count": null,
      "metadata": {},
      "outputs": [],
      "source": []
    },
    {
      "cell_type": "code",
      "execution_count": null,
      "metadata": {},
      "outputs": [],
      "source": []
    },
    {
      "cell_type": "code",
      "execution_count": null,
      "metadata": {},
      "outputs": [],
      "source": []
    },
    {
      "cell_type": "code",
      "execution_count": null,
      "metadata": {},
      "outputs": [],
      "source": []
    },
    {
      "cell_type": "code",
      "execution_count": null,
      "metadata": {},
      "outputs": [],
      "source": []
    },
    {
      "cell_type": "code",
      "execution_count": null,
      "metadata": {},
      "outputs": [],
      "source": []
    },
    {
      "cell_type": "code",
      "execution_count": null,
      "metadata": {},
      "outputs": [],
      "source": []
    },
    {
      "cell_type": "code",
      "execution_count": null,
      "metadata": {},
      "outputs": [],
      "source": []
    },
    {
      "cell_type": "code",
      "execution_count": null,
      "metadata": {},
      "outputs": [],
      "source": []
    },
    {
      "cell_type": "code",
      "execution_count": null,
      "metadata": {},
      "outputs": [],
      "source": []
    },
    {
      "cell_type": "code",
      "execution_count": null,
      "metadata": {},
      "outputs": [],
      "source": []
    },
    {
      "cell_type": "code",
      "execution_count": null,
      "metadata": {},
      "outputs": [],
      "source": []
    },
    {
      "cell_type": "code",
      "execution_count": null,
      "metadata": {},
      "outputs": [],
      "source": []
    },
    {
      "cell_type": "code",
      "execution_count": null,
      "metadata": {},
      "outputs": [],
      "source": []
    },
    {
      "cell_type": "code",
      "execution_count": null,
      "metadata": {},
      "outputs": [],
      "source": []
    },
    {
      "cell_type": "code",
      "execution_count": null,
      "metadata": {},
      "outputs": [],
      "source": []
    },
    {
      "cell_type": "code",
      "execution_count": null,
      "metadata": {},
      "outputs": [],
      "source": []
    },
    {
      "cell_type": "code",
      "execution_count": null,
      "metadata": {},
      "outputs": [],
      "source": []
    },
    {
      "cell_type": "code",
      "execution_count": null,
      "metadata": {},
      "outputs": [],
      "source": []
    },
    {
      "cell_type": "code",
      "execution_count": null,
      "metadata": {},
      "outputs": [],
      "source": []
    },
    {
      "cell_type": "code",
      "execution_count": null,
      "metadata": {},
      "outputs": [],
      "source": []
    },
    {
      "cell_type": "code",
      "execution_count": null,
      "metadata": {},
      "outputs": [],
      "source": []
    },
    {
      "cell_type": "code",
      "execution_count": null,
      "metadata": {},
      "outputs": [],
      "source": []
    },
    {
      "cell_type": "code",
      "execution_count": null,
      "metadata": {},
      "outputs": [],
      "source": []
    },
    {
      "cell_type": "code",
      "execution_count": null,
      "metadata": {},
      "outputs": [],
      "source": []
    }
  ],
  "metadata": {
    "colab": {
      "provenance": []
    },
    "kernelspec": {
      "display_name": "Python 3",
      "name": "python3"
    },
    "language_info": {
      "codemirror_mode": {
        "name": "ipython",
        "version": 3
      },
      "file_extension": ".py",
      "mimetype": "text/x-python",
      "name": "python",
      "nbconvert_exporter": "python",
      "pygments_lexer": "ipython3",
      "version": "3.9.12"
    }
  },
  "nbformat": 4,
  "nbformat_minor": 0
}
